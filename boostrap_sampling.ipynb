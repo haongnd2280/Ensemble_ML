{
 "cells": [
  {
   "cell_type": "code",
   "execution_count": 1,
   "metadata": {},
   "outputs": [
    {
     "data": {
      "text/plain": [
       "array([ 0,  1,  1,  1,  4,  4,  5,  6,  6,  6,  7,  9, 10, 11, 12, 13, 16,\n",
       "       17, 17, 18, 18, 18, 20, 22, 22, 23, 24, 25, 28, 28, 29, 32, 32, 33,\n",
       "       33, 34, 36, 37, 37, 39, 40, 41, 41, 42, 42, 42, 43, 47, 48, 49])"
      ]
     },
     "execution_count": 1,
     "metadata": {},
     "output_type": "execute_result"
    }
   ],
   "source": [
    "# Cách 1: sử dụng numpy \n",
    "import numpy as np \n",
    "\n",
    "bag = np.random.choice(range(0, 50), size=50, replace=True)\n",
    "np.sort(bag)"
   ]
  },
  {
   "cell_type": "code",
   "execution_count": 2,
   "metadata": {},
   "outputs": [
    {
     "data": {
      "text/plain": [
       "array([ 2,  3,  8, 14, 15, 19, 21, 26, 27, 30, 31, 35, 38, 44, 45, 46])"
      ]
     },
     "execution_count": 2,
     "metadata": {},
     "output_type": "execute_result"
    }
   ],
   "source": [
    "# OOB set\n",
    "# Cách 1: Sử dụng hàm numpy \n",
    "oob = np.setdiff1d(range(0, 50), bag)    # np.setdiff1d: hiệu của 2 tập hợp trong không gian 1 chiều \n",
    "oob "
   ]
  },
  {
   "cell_type": "code",
   "execution_count": 3,
   "metadata": {},
   "outputs": [
    {
     "data": {
      "text/plain": [
       "[2, 3, 8, 14, 15, 19, 21, 26, 27, 30, 31, 35, 38, 44, 45, 46]"
      ]
     },
     "execution_count": 3,
     "metadata": {},
     "output_type": "execute_result"
    }
   ],
   "source": [
    "# Cách 2: sử dụng vòng lặp for thông thường \n",
    "oob = []\n",
    "for i in range(50): \n",
    "    if i not in bag:\n",
    "        oob.append(i)\n",
    "oob"
   ]
  },
  {
   "cell_type": "code",
   "execution_count": 7,
   "metadata": {},
   "outputs": [
    {
     "name": "stdout",
     "output_type": "stream",
     "text": [
      "[1, 4, 5, 6, 6, 6, 7, 8, 8, 10, 11, 11, 13, 14, 14, 15, 16, 16, 16, 18, 19, 19, 19, 19, 20, 21, 22, 24, 24, 24, 26, 29, 30, 32, 32, 34, 35, 37, 38, 38, 38, 39, 42, 42, 43, 43, 46, 48, 48, 48]\n"
     ]
    }
   ],
   "source": [
    "# Cách 2: Sử dụng vòng lặp for + hàm random thông thường \n",
    "import random \n",
    "\n",
    "data = range(0, 50)\n",
    "samples = []\n",
    "for _ in range(50): \n",
    "    sample = random.choice(data)     # trả về một phần tử ngẫu nhiên từ list \n",
    "    samples.append(sample)\n",
    "print(sorted(samples))"
   ]
  },
  {
   "cell_type": "code",
   "execution_count": 9,
   "metadata": {},
   "outputs": [
    {
     "name": "stdout",
     "output_type": "stream",
     "text": [
      "[0, 2, 3, 9, 12, 17, 23, 25, 27, 28, 31, 33, 36, 40, 41, 44, 45, 47, 49]\n"
     ]
    }
   ],
   "source": [
    "oob = []\n",
    "for i in data: \n",
    "    if i not in samples: \n",
    "        oob.append(i)\n",
    "print(sorted(oob))"
   ]
  },
  {
   "cell_type": "markdown",
   "metadata": {},
   "source": [
    "Chú ý: phân biệt: \n",
    "- random.choice(): chỉ chọn ngẫu nhiên 1 phần tử duy nhất \n",
    "- random.sample(): chọn 1 tập con các phần tử ngẫu nhiên (không đặt lại)"
   ]
  },
  {
   "cell_type": "code",
   "execution_count": 13,
   "metadata": {},
   "outputs": [
    {
     "data": {
      "text/plain": [
       "0.62"
      ]
     },
     "execution_count": 13,
     "metadata": {},
     "output_type": "execute_result"
    }
   ],
   "source": [
    "count = 0 \n",
    "for i, sample in enumerate(samples): \n",
    "    if sample not in samples[:i]: \n",
    "        count += 1\n",
    "count / 50 "
   ]
  },
  {
   "cell_type": "code",
   "execution_count": 11,
   "metadata": {},
   "outputs": [
    {
     "data": {
      "text/plain": [
       "0.38"
      ]
     },
     "execution_count": 11,
     "metadata": {},
     "output_type": "execute_result"
    }
   ],
   "source": [
    "len(oob) / 50 "
   ]
  }
 ],
 "metadata": {
  "kernelspec": {
   "display_name": "Python 3 (ipykernel)",
   "language": "python",
   "name": "python3"
  },
  "language_info": {
   "codemirror_mode": {
    "name": "ipython",
    "version": 3
   },
   "file_extension": ".py",
   "mimetype": "text/x-python",
   "name": "python",
   "nbconvert_exporter": "python",
   "pygments_lexer": "ipython3",
   "version": "3.8.4"
  }
 },
 "nbformat": 4,
 "nbformat_minor": 2
}
