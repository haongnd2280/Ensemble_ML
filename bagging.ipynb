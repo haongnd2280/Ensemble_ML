{
 "cells": [
  {
   "cell_type": "markdown",
   "metadata": {},
   "source": [
    "# Bagging using decisison trees "
   ]
  },
  {
   "cell_type": "markdown",
   "metadata": {},
   "source": [
    "Using decision trees as base estimators. "
   ]
  },
  {
   "cell_type": "markdown",
   "metadata": {},
   "source": [
    "## Training "
   ]
  },
  {
   "cell_type": "code",
   "execution_count": 4,
   "metadata": {},
   "outputs": [],
   "source": [
    "import numpy as np \n",
    "from scipy.stats import mode \n",
    "from sklearn.tree import DecisionTreeClassifier "
   ]
  },
  {
   "cell_type": "code",
   "execution_count": 3,
   "metadata": {},
   "outputs": [],
   "source": [
    "rng = np.random.RandomState(seed=4190)        # initialize a random seed \n",
    "\n",
    "def bagging_fit(X, y, n_estimators, max_depth=5, max_samples=200):\n",
    "    \"\"\"Implement bagging using decision trees as base estimators. \n",
    "    \n",
    "    Params: \n",
    "    - n_estimators: the ensemble size, i.e, the number of base estimators. \n",
    "    - max_depth: the maximum depth of decision trees. \n",
    "    - max_samples: the size of the bootstrap subset.\n",
    "    \"\"\"\n",
    "\n",
    "    n_examples = len(y)\n",
    "    estimators = [DecisionTreeClassifier(max_depth=max_depth)              # create a list of base estimators\n",
    "                  for _ in range(n_estimators)]  \n",
    "\n",
    "    for tree in estimators: \n",
    "        bag = np.random.choice(n_examples, max_samples, replace=True)      # generate a bootstrap sample (indices of the data points)\n",
    "        tree.fit(X[bag, :], y[bag])                                        # fit a tree to the bootstrap sample \n",
    "\n",
    "    return estimators "
   ]
  },
  {
   "cell_type": "code",
   "execution_count": 5,
   "metadata": {},
   "outputs": [],
   "source": [
    "def bagging_predict(X, estimators): \n",
    "    \"\"\"This function predict the test set X using a set of tree base estimators. \n",
    "    The majority voting is used for final prediction. \n",
    "    \"\"\"\n",
    "\n",
    "    all_preds = np.array([tree.predict(X) for tree in estimators])\n",
    "    y_pred, _ = mode(all_preds, axis=0, keepdims=False)      # make the final prediction by majority voting \n",
    "\n",
    "    return np.squeeze(y_pred)"
   ]
  },
  {
   "cell_type": "markdown",
   "metadata": {},
   "source": [
    "## Testing "
   ]
  },
  {
   "cell_type": "code",
   "execution_count": 7,
   "metadata": {},
   "outputs": [
    {
     "name": "stdout",
     "output_type": "stream",
     "text": [
      "0.9292929292929293\n"
     ]
    }
   ],
   "source": [
    "from sklearn.datasets import make_moons\n",
    "from sklearn.model_selection import train_test_split\n",
    "from sklearn.metrics import accuracy_score\n",
    "\n",
    "\n",
    "X, y = make_moons(n_samples=300, noise=.25, random_state=rng)                               # create a 2D dataset \n",
    "X_train, X_test, y_train, y_test = train_test_split(X, y, test_size=0.33, random_state=rng)\n",
    "\n",
    "bag_ens = bagging_fit(X_train, y_train, n_estimators=500, max_depth=12, max_samples=300)    # train a bagging ensemble \n",
    "y_pred = bagging_predict(X_test, bag_ens)\n",
    "\n",
    "print(accuracy_score(y_test, y_pred))"
   ]
  },
  {
   "cell_type": "code",
   "execution_count": 15,
   "metadata": {},
   "outputs": [
    {
     "data": {
      "text/plain": [
       "((300, 2), array([0, 1], dtype=int64))"
      ]
     },
     "execution_count": 15,
     "metadata": {},
     "output_type": "execute_result"
    }
   ],
   "source": [
    "cls = np.unique(y)\n",
    "X.shape, cls"
   ]
  },
  {
   "cell_type": "markdown",
   "metadata": {},
   "source": [
    "# Compare the ensemble vs a single decision tree"
   ]
  },
  {
   "cell_type": "code",
   "execution_count": 9,
   "metadata": {},
   "outputs": [
    {
     "name": "stdout",
     "output_type": "stream",
     "text": [
      "Bagging: test acc: 0.9292929292929293\n",
      "Single tree: test acc: 0.9191919191919192\n"
     ]
    }
   ],
   "source": [
    "tree = DecisionTreeClassifier(max_depth=12)\n",
    "y_pred_single = tree.fit(X_train, y_train).predict(X_test)    # pipeline train and prediction \n",
    "\n",
    "tree_acc = accuracy_score(y_test, y_pred_single)\n",
    "ens_acc = accuracy_score(y_test, y_pred)\n",
    "\n",
    "print(f'Bagging: test acc: {ens_acc}')\n",
    "print(f'Single tree: test acc: {tree_acc}')"
   ]
  },
  {
   "cell_type": "code",
   "execution_count": null,
   "metadata": {},
   "outputs": [],
   "source": [
    "from plot_utils "
   ]
  },
  {
   "cell_type": "code",
   "execution_count": null,
   "metadata": {},
   "outputs": [],
   "source": []
  },
  {
   "cell_type": "code",
   "execution_count": null,
   "metadata": {},
   "outputs": [],
   "source": []
  },
  {
   "cell_type": "code",
   "execution_count": null,
   "metadata": {},
   "outputs": [],
   "source": []
  },
  {
   "cell_type": "code",
   "execution_count": null,
   "metadata": {},
   "outputs": [],
   "source": []
  },
  {
   "cell_type": "code",
   "execution_count": null,
   "metadata": {},
   "outputs": [],
   "source": []
  }
 ],
 "metadata": {
  "kernelspec": {
   "display_name": ".ens_venv",
   "language": "python",
   "name": "python3"
  },
  "language_info": {
   "codemirror_mode": {
    "name": "ipython",
    "version": 3
   },
   "file_extension": ".py",
   "mimetype": "text/x-python",
   "name": "python",
   "nbconvert_exporter": "python",
   "pygments_lexer": "ipython3",
   "version": "3.11.2"
  },
  "orig_nbformat": 4
 },
 "nbformat": 4,
 "nbformat_minor": 2
}
